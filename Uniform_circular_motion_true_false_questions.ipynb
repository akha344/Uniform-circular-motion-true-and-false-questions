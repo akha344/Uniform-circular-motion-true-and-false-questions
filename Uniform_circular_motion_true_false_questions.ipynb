{
 "cells": [
  {
   "cell_type": "code",
   "execution_count": 2,
   "id": "288a4600-18ab-4c54-adce-da9bfa2a4704",
   "metadata": {},
   "outputs": [
    {
     "name": "stdout",
     "output_type": "stream",
     "text": [
      "Answer the following True/False questions about uniform circular motion:\n"
     ]
    },
    {
     "data": {
      "application/vnd.jupyter.widget-view+json": {
       "model_id": "e1e686b165714dfabf09641191635d0c",
       "version_major": 2,
       "version_minor": 0
      },
      "text/plain": [
       "VBox(children=(RadioButtons(description='1. The definition of acceleration is the rate of change of velocity.'…"
      ]
     },
     "metadata": {},
     "output_type": "display_data"
    }
   ],
   "source": [
    "# Import the necessary libraries\n",
    "import ipywidgets as widgets\n",
    "from IPython.display import display, clear_output\n",
    "\n",
    "# Create an Output widget to capture and display the results\n",
    "output = widgets.Output()\n",
    "\n",
    "def check_answers(b):\n",
    "    \"\"\"\n",
    "    Checks the user's answers against the correct answers and provides feedback.\n",
    "    \"\"\"\n",
    "    # Clear the previous output within the output widget\n",
    "    with output:\n",
    "        clear_output()\n",
    "        \n",
    "        correct_answers = {\n",
    "            'q1': True,\n",
    "            'q2': False,\n",
    "            'q3': False,\n",
    "            'q4': False\n",
    "        }\n",
    "\n",
    "        # Retrieve the user's selected answers from the widgets\n",
    "        user_answers = {\n",
    "            'q1': q1_radio.value == 'True',\n",
    "            'q2': q2_radio.value == 'True',\n",
    "            'q3': q3_radio.value == 'True',\n",
    "            'q4': q4_radio.value == 'True'\n",
    "        }\n",
    "\n",
    "        # Check if all answers are correct\n",
    "        if all(user_answers[q] == correct_answers[q] for q in correct_answers):\n",
    "            print(\"Congratulations, you have finished the first part of today’s activity. 🎉\")\n",
    "            print(\"Now go on google classroom to find the second part of today’s activity. 💻\")\n",
    "            # Disable the button after a correct attempt\n",
    "            submit_button.disabled = True\n",
    "        else:\n",
    "            print(\"Try again. 😟\")\n",
    "            # The questions are already displayed, so we just need to provide the message\n",
    "\n",
    "# Define the questions and their options\n",
    "questions = [\n",
    "    \"1. The definition of acceleration is the rate of change of velocity.\",\n",
    "    \"2. Acceleration and velocity are both scalar quantities.\",\n",
    "    \"3. The direction of centripetal acceleration in uniform circular motion is away from the center.\",\n",
    "    \"4. The direction of angular velocity in uniform circular motion is in the tangential direction.\"\n",
    "]\n",
    "options = ['True', 'False']\n",
    "\n",
    "# Create radio button widgets for each question\n",
    "q1_radio = widgets.RadioButtons(options=options, description=questions[0])\n",
    "q2_radio = widgets.RadioButtons(options=options, description=questions[1])\n",
    "q3_radio = widgets.RadioButtons(options=options, description=questions[2])\n",
    "q4_radio = widgets.RadioButtons(options=options, description=questions[3])\n",
    "\n",
    "# Create a button for submission\n",
    "submit_button = widgets.Button(description=\"Submit Answers\")\n",
    "submit_button.on_click(check_answers)\n",
    "\n",
    "# Arrange the widgets in a vertical box\n",
    "questions_box = widgets.VBox([q1_radio, q2_radio, q3_radio, q4_radio, submit_button, output])\n",
    "\n",
    "# Display the widgets to the user\n",
    "print(\"Answer the following True/False questions about uniform circular motion:\")\n",
    "display(questions_box)"
   ]
  },
  {
   "cell_type": "code",
   "execution_count": null,
   "id": "7cb60b95-6514-48f4-b57a-d8071d6d514a",
   "metadata": {},
   "outputs": [],
   "source": []
  }
 ],
 "metadata": {
  "kernelspec": {
   "display_name": "anaconda-panel-2023.05-py310",
   "language": "python",
   "name": "conda-env-anaconda-panel-2023.05-py310-py"
  },
  "language_info": {
   "codemirror_mode": {
    "name": "ipython",
    "version": 3
   },
   "file_extension": ".py",
   "mimetype": "text/x-python",
   "name": "python",
   "nbconvert_exporter": "python",
   "pygments_lexer": "ipython3",
   "version": "3.11.5"
  }
 },
 "nbformat": 4,
 "nbformat_minor": 5
}
